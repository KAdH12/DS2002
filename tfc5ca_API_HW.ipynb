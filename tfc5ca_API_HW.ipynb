{
 "cells": [
  {
   "cell_type": "markdown",
   "id": "f5e90718",
   "metadata": {},
   "source": [
    "**API Homework**"
   ]
  },
  {
   "cell_type": "markdown",
   "id": "bfd6e751",
   "metadata": {},
   "source": [
    "1. Take User Input for a Stock"
   ]
  },
  {
   "cell_type": "code",
   "execution_count": 13,
   "id": "700f3ae2",
   "metadata": {},
   "outputs": [],
   "source": [
    "import json\n",
    "import pandas as pd\n",
    "import json\n",
    "import requests"
   ]
  },
  {
   "cell_type": "code",
   "execution_count": 55,
   "id": "b3d94e51",
   "metadata": {},
   "outputs": [
    {
     "name": "stdout",
     "output_type": "stream",
     "text": [
      "AAPL\n"
     ]
    }
   ],
   "source": [
    "# get user input\n",
    "stock=input()"
   ]
  },
  {
   "cell_type": "code",
   "execution_count": 56,
   "id": "20f05ef3",
   "metadata": {},
   "outputs": [
    {
     "name": "stdout",
     "output_type": "stream",
     "text": [
      "The Stock we will research is:AAPL\n"
     ]
    }
   ],
   "source": [
    "print(\"The Stock we will research is:\" + stock)"
   ]
  },
  {
   "cell_type": "code",
   "execution_count": 129,
   "id": "97cc3fc1",
   "metadata": {},
   "outputs": [
    {
     "name": "stdout",
     "output_type": "stream",
     "text": [
      "API request successful!\n"
     ]
    }
   ],
   "source": [
    "apikey=\"yourkey\"\n",
    "\n",
    "# call API for quote info \n",
    "url1 = \"https://yfapi.net/v6/finance/quote\"\n",
    "\n",
    "querystring = {\"symbols\":stock}\n",
    "\n",
    "headers = {\n",
    "    'x-api-key': apikey\n",
    "    }\n",
    "\n",
    "response1 = requests.request(\"GET\", url1, headers=headers, params=querystring)\n",
    "\n",
    "# Check the status code\n",
    "if response1.status_code == 200:\n",
    "    print(\"API request successful!\")\n",
    "else:\n",
    "    print(f\"Failed to retrieve data: {response.status_code}\")"
   ]
  },
  {
   "cell_type": "code",
   "execution_count": 97,
   "id": "e50236ed",
   "metadata": {},
   "outputs": [
    {
     "name": "stdout",
     "output_type": "stream",
     "text": [
      "API request successful!\n"
     ]
    }
   ],
   "source": [
    "# call API for quoteSummary info\n",
    "url2 = \"https://yfapi.net/v11/finance/quoteSummary/\" + stock\n",
    "\n",
    "querystring2 = {\"modules\":'financialData'}\n",
    "\n",
    "response2 = requests.request(\"GET\", url2, headers=headers, params=querystring2)\n",
    "\n",
    "# Check the status code\n",
    "if response2.status_code == 200:\n",
    "    print(\"API request successful!\")\n",
    "else:\n",
    "    print(f\"Failed to retrieve data: {response.status_code}\")"
   ]
  },
  {
   "cell_type": "code",
   "execution_count": 98,
   "id": "e58d00e6",
   "metadata": {},
   "outputs": [
    {
     "name": "stdout",
     "output_type": "stream",
     "text": [
      "API request successful!\n"
     ]
    }
   ],
   "source": [
    "# call API for trending info\n",
    "url3 = \"https://yfapi.net/v1/finance/trending/US\"\n",
    "\n",
    "response3 = requests.request(\"GET\", url3, headers=headers, params=querystring)\n",
    "\n",
    "# Check the status code\n",
    "if response3.status_code == 200:\n",
    "    print(\"API request successful!\")\n",
    "else:\n",
    "    print(f\"Failed to retrieve data: {response.status_code}\")"
   ]
  },
  {
   "cell_type": "code",
   "execution_count": 95,
   "id": "02722877",
   "metadata": {},
   "outputs": [],
   "source": [
    "# turn request into dictionary\n",
    "data_quote = response1.json()\n",
    "data_quotesummary = response2.json()\n",
    "data_trending = response3.json()"
   ]
  },
  {
   "cell_type": "markdown",
   "id": "7679c9de",
   "metadata": {},
   "source": [
    "2. Display Data back to User"
   ]
  },
  {
   "cell_type": "code",
   "execution_count": 91,
   "id": "1b7bcffd",
   "metadata": {},
   "outputs": [
    {
     "name": "stdout",
     "output_type": "stream",
     "text": [
      "Ticker Name : AAPL\n",
      "Full Name : Apple Inc.\n",
      "Current Market Price : 227.725\n",
      "Target Mean Price : {'raw': 240.58, 'fmt': '240.58'}\n",
      "52 Week High : 237.23\n",
      "52 Week Low : 164.08\n",
      "Top Current Trending Stock : AMSC\n",
      "2nd Current Trending Stock : PWR\n",
      "3rd Current Trending Stock : VRT\n",
      "4th Current Trending Stock : SNAP\n",
      "5th Current Trending Stock : BBD\n"
     ]
    }
   ],
   "source": [
    "# get data from dictionaries\n",
    "stock_quote = data_quote['quoteResponse']['result'][0]\n",
    "stock_quotesummary = data_quotesummary['quoteSummary']['result'][0]['financialData']\n",
    "stock_trending = data_trending['finance']['result'][0]['quotes']\n",
    "\n",
    "# create new dictionary with specified info\n",
    "stock_info = {\n",
    "    'Ticker Name' : stock_quote['symbol'],\n",
    "    'Full Name' : stock_quote['longName'],\n",
    "    'Current Market Price' : stock_quote['regularMarketPrice'],\n",
    "    'Target Mean Price' : stock_quotesummary['targetMeanPrice'],\n",
    "    '52 Week High' : stock_quote['fiftyTwoWeekHigh'],\n",
    "    '52 Week Low' : stock_quote['fiftyTwoWeekLow'],\n",
    "    'Top Current Trending Stock' : stock_trending[0]['symbol'],\n",
    "    '2nd Current Trending Stock' : stock_trending[1]['symbol'],\n",
    "    '3rd Current Trending Stock' : stock_trending[2]['symbol'],\n",
    "    '4th Current Trending Stock' : stock_trending[3]['symbol'],\n",
    "    '5th Current Trending Stock' : stock_trending[4]['symbol']\n",
    "}\n",
    "\n",
    "# display info for user\n",
    "for key, each in stock_info.items():\n",
    "    print(key, ':' ,each)"
   ]
  },
  {
   "cell_type": "markdown",
   "id": "d47201ce",
   "metadata": {},
   "source": [
    "3. Put data in DataFrame and store as CSV file"
   ]
  },
  {
   "cell_type": "code",
   "execution_count": 92,
   "id": "bb229162",
   "metadata": {},
   "outputs": [
    {
     "data": {
      "text/html": [
       "<div>\n",
       "<style scoped>\n",
       "    .dataframe tbody tr th:only-of-type {\n",
       "        vertical-align: middle;\n",
       "    }\n",
       "\n",
       "    .dataframe tbody tr th {\n",
       "        vertical-align: top;\n",
       "    }\n",
       "\n",
       "    .dataframe thead th {\n",
       "        text-align: right;\n",
       "    }\n",
       "</style>\n",
       "<table border=\"1\" class=\"dataframe\">\n",
       "  <thead>\n",
       "    <tr style=\"text-align: right;\">\n",
       "      <th></th>\n",
       "      <th>Ticker Name</th>\n",
       "      <th>Full Name</th>\n",
       "      <th>Current Market Price</th>\n",
       "      <th>Target Mean Price</th>\n",
       "      <th>52 Week High</th>\n",
       "      <th>52 Week Low</th>\n",
       "      <th>Top Current Trending Stock</th>\n",
       "      <th>2nd Current Trending Stock</th>\n",
       "      <th>3rd Current Trending Stock</th>\n",
       "      <th>4th Current Trending Stock</th>\n",
       "      <th>5th Current Trending Stock</th>\n",
       "    </tr>\n",
       "  </thead>\n",
       "  <tbody>\n",
       "    <tr>\n",
       "      <th>0</th>\n",
       "      <td>AAPL</td>\n",
       "      <td>Apple Inc.</td>\n",
       "      <td>227.725</td>\n",
       "      <td>{'raw': 240.58, 'fmt': '240.58'}</td>\n",
       "      <td>237.23</td>\n",
       "      <td>164.08</td>\n",
       "      <td>AMSC</td>\n",
       "      <td>PWR</td>\n",
       "      <td>VRT</td>\n",
       "      <td>SNAP</td>\n",
       "      <td>BBD</td>\n",
       "    </tr>\n",
       "  </tbody>\n",
       "</table>\n",
       "</div>"
      ],
      "text/plain": [
       "  Ticker Name   Full Name  Current Market Price  \\\n",
       "0        AAPL  Apple Inc.               227.725   \n",
       "\n",
       "                  Target Mean Price  52 Week High  52 Week Low  \\\n",
       "0  {'raw': 240.58, 'fmt': '240.58'}        237.23       164.08   \n",
       "\n",
       "  Top Current Trending Stock 2nd Current Trending Stock  \\\n",
       "0                       AMSC                        PWR   \n",
       "\n",
       "  3rd Current Trending Stock 4th Current Trending Stock  \\\n",
       "0                        VRT                       SNAP   \n",
       "\n",
       "  5th Current Trending Stock  \n",
       "0                        BBD  "
      ]
     },
     "execution_count": 92,
     "metadata": {},
     "output_type": "execute_result"
    }
   ],
   "source": [
    "# create dataframe from stock_info dictionary\n",
    "stock_df = pd.DataFrame([stock_info])\n",
    "stock_df.head()"
   ]
  },
  {
   "cell_type": "code",
   "execution_count": 93,
   "id": "f5f04f49",
   "metadata": {},
   "outputs": [],
   "source": [
    "# store as csv file\n",
    "stock_df.to_csv('stock_info.csv')"
   ]
  },
  {
   "cell_type": "markdown",
   "id": "8d78ecb1",
   "metadata": {},
   "source": [
    "Bonus"
   ]
  },
  {
   "cell_type": "code",
   "execution_count": 130,
   "id": "0286856f",
   "metadata": {},
   "outputs": [
    {
     "name": "stdout",
     "output_type": "stream",
     "text": [
      "API request successful!\n"
     ]
    }
   ],
   "source": [
    "# call API for chart info\n",
    "url4 = \"https://yfapi.net/v8/finance/chart/\" + stock\n",
    "\n",
    "querystring4 = {\"range\":'5d',\n",
    "               'interval' : '1d'}\n",
    "\n",
    "response4 = requests.request(\"GET\", url4, headers=headers, params=querystring4)\n",
    "\n",
    "# Check the status code\n",
    "if response4.status_code == 200:\n",
    "    print(\"API request successful!\")\n",
    "else:\n",
    "    print(f\"Failed to retrieve data: {response.status_code}\")"
   ]
  },
  {
   "cell_type": "code",
   "execution_count": 132,
   "id": "b30f436c",
   "metadata": {},
   "outputs": [
    {
     "data": {
      "text/html": [
       "<div>\n",
       "<style scoped>\n",
       "    .dataframe tbody tr th:only-of-type {\n",
       "        vertical-align: middle;\n",
       "    }\n",
       "\n",
       "    .dataframe tbody tr th {\n",
       "        vertical-align: top;\n",
       "    }\n",
       "\n",
       "    .dataframe thead th {\n",
       "        text-align: right;\n",
       "    }\n",
       "</style>\n",
       "<table border=\"1\" class=\"dataframe\">\n",
       "  <thead>\n",
       "    <tr style=\"text-align: right;\">\n",
       "      <th></th>\n",
       "      <th>Timestamps</th>\n",
       "      <th>Highs</th>\n",
       "    </tr>\n",
       "  </thead>\n",
       "  <tbody>\n",
       "    <tr>\n",
       "      <th>0</th>\n",
       "      <td>1727098200</td>\n",
       "      <td>229.449997</td>\n",
       "    </tr>\n",
       "    <tr>\n",
       "      <th>1</th>\n",
       "      <td>1727184600</td>\n",
       "      <td>229.350006</td>\n",
       "    </tr>\n",
       "    <tr>\n",
       "      <th>2</th>\n",
       "      <td>1727271000</td>\n",
       "      <td>227.289993</td>\n",
       "    </tr>\n",
       "    <tr>\n",
       "      <th>3</th>\n",
       "      <td>1727357400</td>\n",
       "      <td>228.500000</td>\n",
       "    </tr>\n",
       "    <tr>\n",
       "      <th>4</th>\n",
       "      <td>1727443800</td>\n",
       "      <td>229.520004</td>\n",
       "    </tr>\n",
       "  </tbody>\n",
       "</table>\n",
       "</div>"
      ],
      "text/plain": [
       "   Timestamps       Highs\n",
       "0  1727098200  229.449997\n",
       "1  1727184600  229.350006\n",
       "2  1727271000  227.289993\n",
       "3  1727357400  228.500000\n",
       "4  1727443800  229.520004"
      ]
     },
     "execution_count": 132,
     "metadata": {},
     "output_type": "execute_result"
    }
   ],
   "source": [
    "# convert requests to dictionary\n",
    "data_highs = response4.json()\n",
    "\n",
    "# retrieve data from dictionary\n",
    "timestamps = data_highs['chart']['result'][0]['timestamp']\n",
    "high_prices = data_highs['chart']['result'][0]['indicators']['quote'][0]['high']\n",
    "\n",
    "# convert data to dataframe\n",
    "highs_df = pd.DataFrame({'Timestamps':timestamps, 'Highs':high_prices})\n",
    "highs_df.head()"
   ]
  },
  {
   "cell_type": "code",
   "execution_count": 128,
   "id": "c9b604e9",
   "metadata": {},
   "outputs": [
    {
     "data": {
      "text/plain": [
       "Text(0, 0.5, 'Highest Price ($)')"
      ]
     },
     "execution_count": 128,
     "metadata": {},
     "output_type": "execute_result"
    },
    {
     "data": {
      "image/png": "[encoded data removed]",
      "text/plain": [
       "<Figure size 1000x600 with 1 Axes>"
      ]
     },
     "metadata": {},
     "output_type": "display_data"
    }
   ],
   "source": [
    "import matplotlib.pyplot as plt\n",
    "\n",
    "# plot highest prices over last 5 days\n",
    "plt.figure(figsize=(10,6))\n",
    "plt.plot(df['Timestamps'], df['Highs'], marker='o')\n",
    "plt.title('Highest Prices of ' + stock + ' Over Past 5 Days')\n",
    "plt.xlabel('Timestamps')\n",
    "plt.ylabel('Highest Price ($)')"
   ]
  },
  {
   "cell_type": "code",
   "execution_count": null,
   "id": "957b6ae6",
   "metadata": {},
   "outputs": [],
   "source": []
  }
 ],
 "metadata": {
  "kernelspec": {
   "display_name": "Python 3 (ipykernel)",
   "language": "python",
   "name": "python3"
  },
  "language_info": {
   "codemirror_mode": {
    "name": "ipython",
    "version": 3
   },
   "file_extension": ".py",
   "mimetype": "text/x-python",
   "name": "python",
   "nbconvert_exporter": "python",
   "pygments_lexer": "ipython3",
   "version": "3.11.5"
  }
 },
 "nbformat": 4,
 "nbformat_minor": 5
}
