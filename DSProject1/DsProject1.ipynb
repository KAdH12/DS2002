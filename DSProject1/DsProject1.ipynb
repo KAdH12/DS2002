{
  "cells": [
    {
      "cell_type": "code",
      "execution_count": 2,
      "metadata": {
        "id": "jQJM4oAkIy7c"
      },
      "outputs": [],
      "source": [
        "#DS2002 Project 2\n",
        "#Kendle Schooler & Adair Hancock\n",
        "\n",
        "import json\n",
        "import pandas as pd\n",
        "import requests\n",
        "import sqlite3"
      ]
    },
    {
      "cell_type": "code",
      "source": [
        "#JSON input:\n",
        "url='https://api.carbonintensity.org.uk/intensity/factors'\n",
        "headers = {\n",
        "  'Accept': 'application/json'}\n",
        "#API call is made.\n",
        "response = requests.get(url, params={}, headers = headers)\n",
        "\n",
        "if response.status_code==200:\n",
        "  data = response.json()\n",
        "  #Response is converted to Pandas dataframe.\n",
        "  df = (pd.json_normalize(data['data']))\n",
        "  rows=len(df)\n",
        "  cols=len(df.columns)\n",
        "  df['Imports']=df['Dutch Imports']+df['French Imports']+df['Irish Imports']\n",
        "  df.drop(['Dutch Imports','French Imports','Irish Imports'],axis=1,inplace=True)\n",
        "  df['Gas']=df['Gas (Open Cycle)']+df['Gas (Combined Cycle)']\n",
        "  df.drop(['Gas (Open Cycle)','Gas (Combined Cycle)'],axis=1,inplace=True)\n",
        "  #User chooses final output type.\n",
        "  format=input(\"Choose an output format(csv,sql):\")\n",
        "  if format=='csv':\n",
        "    #Converts dataframe to csv.\n",
        "    csv=df.to_csv('ci_data.csv',index=False)\n",
        "  elif format=='sql':\n",
        "    #Connects to SQL database.\n",
        "    conn = sqlite3.connect('carbon.db')\n",
        "    #Creates 'CarbonIntensity' table from dataframe and writes to 'carbon' SQL database.\n",
        "    df.to_sql('CarbonIntensity', conn, if_exists='replace', index=False)\n",
        "    conn.close\n",
        "  else:\n",
        "    print('Unable to convert to this format. Please choose another.')\n",
        "elif response.status_code==400:\n",
        "  print('Error: Bad request')\n",
        "elif response.status_code==500:\n",
        "  print('An internal server error has occurred')\n",
        "else:\n",
        "  print('Sorry, an unknown error occurred.')\n",
        "\n",
        "print('Summary:')\n",
        "print('Starting num. columns=',cols)\n",
        "print(\"Starting num. records=\",rows)\n",
        "print('Ending num. columns=',len(df.columns))\n",
        "print('Ending num. records=',len(df))"
      ],
      "metadata": {
        "colab": {
          "base_uri": "https://localhost:8080/"
        },
        "id": "bVgIuwtqVl-h",
        "outputId": "a6f0ff89-bce6-4773-bb58-8b625d1aa744"
      },
      "execution_count": 4,
      "outputs": [
        {
          "output_type": "stream",
          "name": "stdout",
          "text": [
            "   Biomass  Coal  Dutch Imports  French Imports  Gas (Combined Cycle)  \\\n",
            "0      120   937            474              53                   394   \n",
            "\n",
            "   Gas (Open Cycle)  Hydro  Irish Imports  Nuclear  Oil  Other  \\\n",
            "0               651      0            458        0  935    300   \n",
            "\n",
            "   Pumped Storage  Solar  Wind  \n",
            "0               0      0     0  \n",
            "   Biomass  Coal  Hydro  Nuclear  Oil  Other  Pumped Storage  Solar  Wind  \\\n",
            "0      120   937      0        0  935    300               0      0     0   \n",
            "\n",
            "   Imports   Gas  \n",
            "0      985  1045  \n",
            "Choose an output format(csv,sql):csv\n",
            "Summary:\n",
            "Starting num. columns= 14\n",
            "Starting num. records= 1\n",
            "Ending num. columns= 11\n",
            "Ending num. records= 1\n"
          ]
        }
      ]
    },
    {
      "cell_type": "code",
      "execution_count": null,
      "metadata": {
        "id": "rqnTBKiTjbvF",
        "colab": {
          "base_uri": "https://localhost:8080/"
        },
        "outputId": "dd19a1d9-1f91-4c00-cb12-d402b950e9c8"
      },
      "outputs": [
        {
          "output_type": "stream",
          "name": "stdout",
          "text": [
            "Choose an output format (json, sql):json\n",
            "Summary:\n",
            "Starting num. columns= 12\n",
            "Starting num. records= 96\n",
            "Ending num. columns= 8\n",
            "Ending num. records= 96\n"
          ]
        }
      ],
      "source": [
        "#CSV input:\n",
        "#Before starting, ensure the correct csv file has been mounted.\n",
        "\n",
        "#CSV is converted to Pandas dataframe.\n",
        "data2 = pd.read_csv('most-polluted-countries.csv')\n",
        "csv2=data2.drop(['ccn3','pollution_density_per_Mile','share_borders','mostPollutedCountries_particlePollution'], axis=1)\n",
        "#User chooses final output type.\n",
        "output = input(\"Choose an output format (json, sql):\")\n",
        "if output=='sql':\n",
        "  #Connects to SQL database.\n",
        "  conn = sqlite3.connect('pollution.db')\n",
        "  #Creates 'Countries' table from dataframe and writes to 'pollution' SQL database.\n",
        "  csv2.to_sql('Countries', conn, if_exists='replace', index=False)\n",
        "  conn.close\n",
        "elif output=='json':\n",
        "  #Converts dataframe to json string then to json dictionary.\n",
        "  mpc_json = json.loads(csv2.to_json(orient=\"records\"))\n",
        "else:\n",
        "  print('Unable to convert to this format. Please choose another.')\n",
        "\n",
        "print('Summary:')\n",
        "print('Starting num. columns=',len(data2.columns))\n",
        "print(\"Starting num. records=\",len(data2))\n",
        "print('Ending num. columns=',len(csv2.columns))\n",
        "print('Ending num. records=',len(csv2))\n"
      ]
    }
  ],
  "metadata": {
    "colab": {
      "provenance": []
    },
    "kernelspec": {
      "display_name": "Python 3",
      "name": "python3"
    },
    "language_info": {
      "name": "python"
    }
  },
  "nbformat": 4,
  "nbformat_minor": 0
}
