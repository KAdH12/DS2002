{
 "cells": [
  {
   "cell_type": "markdown",
   "id": "2c0ff04d",
   "metadata": {
    "colab_type": "text",
    "id": "view-in-github"
   },
   "source": [
    "<a href=\"https://colab.research.google.com/github/fourfeatherz/DS2002F24/blob/main/Labs%5CUniversities_and_Stock_API_Workshop.ipynb\" target=\"_parent\"><img src=\"https://colab.research.google.com/assets/colab-badge.svg\" alt=\"Open In Colab\"/></a>"
   ]
  },
  {
   "cell_type": "markdown",
   "id": "YHwTFoDB04MH",
   "metadata": {
    "id": "YHwTFoDB04MH"
   },
   "source": [
    "# Using API Calls in Python with JSON and DataFrames - University Data Example\n",
    "In this notebook, we will make API requests to the Hipolabs Universities API, parse the JSON response, and convert it into Pandas DataFrames for analysis and visualization."
   ]
  },
  {
   "cell_type": "markdown",
   "id": "CDPNEdDF04MJ",
   "metadata": {
    "id": "CDPNEdDF04MJ"
   },
   "source": [
    "### Step 1: Making the API Call to Fetch University Data"
   ]
  },
  {
   "cell_type": "code",
   "execution_count": 1,
   "id": "pY6qqMVA04MJ",
   "metadata": {
    "id": "pY6qqMVA04MJ"
   },
   "outputs": [
    {
     "name": "stdout",
     "output_type": "stream",
     "text": [
      "API request successful!\n"
     ]
    }
   ],
   "source": [
    "import requests\n",
    "import json\n",
    "import pandas as pd\n",
    "\n",
    "# API endpoint for fetching universities\n",
    "url = \"http://universities.hipolabs.com/search?country=United%20States\"\n",
    "\n",
    "# Make the GET request\n",
    "response = requests.get(url)\n",
    "\n",
    "# Check the status code\n",
    "if response.status_code == 200:\n",
    "    print(\"API request successful!\")\n",
    "else:\n",
    "    print(f\"Failed to retrieve data: {response.status_code}\")"
   ]
  },
  {
   "cell_type": "markdown",
   "id": "N7564Ydt04MK",
   "metadata": {
    "id": "N7564Ydt04MK"
   },
   "source": [
    "### Step 2: Parsing the JSON Response"
   ]
  },
  {
   "cell_type": "code",
   "execution_count": 2,
   "id": "VnNhC0LN04MK",
   "metadata": {
    "id": "VnNhC0LN04MK"
   },
   "outputs": [
    {
     "name": "stdout",
     "output_type": "stream",
     "text": [
      "{\n",
      "  \"domains\": [\n",
      "    \"marywood.edu\"\n",
      "  ],\n",
      "  \"alpha_two_code\": \"US\",\n",
      "  \"web_pages\": [\n",
      "    \"http://www.marywood.edu\"\n",
      "  ],\n",
      "  \"name\": \"Marywood University\",\n",
      "  \"state-province\": null,\n",
      "  \"country\": \"United States\"\n",
      "}\n"
     ]
    }
   ],
   "source": [
    "# Parse the JSON response\n",
    "university_data = response.json()\n",
    "\n",
    "# Pretty-print the first university\n",
    "print(json.dumps(university_data[0], indent=2))"
   ]
  },
  {
   "cell_type": "markdown",
   "id": "LpvYuFhm04MK",
   "metadata": {
    "id": "LpvYuFhm04MK"
   },
   "source": [
    "### Step 3: Converting the JSON Data to a DataFrame"
   ]
  },
  {
   "cell_type": "code",
   "execution_count": 3,
   "id": "6TXNwd7L04MK",
   "metadata": {
    "id": "6TXNwd7L04MK"
   },
   "outputs": [
    {
     "name": "stdout",
     "output_type": "stream",
     "text": [
      "            domains alpha_two_code                     web_pages  \\\n",
      "0    [marywood.edu]             US     [http://www.marywood.edu]   \n",
      "1  [lindenwood.edu]             US  [http://www.lindenwood.edu/]   \n",
      "2    [sullivan.edu]             US       [https://sullivan.edu/]   \n",
      "3        [fscj.edu]             US       [https://www.fscj.edu/]   \n",
      "4      [xavier.edu]             US     [https://www.xavier.edu/]   \n",
      "\n",
      "                                    name state-province        country  \n",
      "0                    Marywood University           None  United States  \n",
      "1                  Lindenwood University           None  United States  \n",
      "2                    Sullivan University           None  United States  \n",
      "3  Florida State College at Jacksonville           None  United States  \n",
      "4                      Xavier University           None  United States  \n"
     ]
    },
    {
     "data": {
      "text/html": [
       "<div>\n",
       "<style scoped>\n",
       "    .dataframe tbody tr th:only-of-type {\n",
       "        vertical-align: middle;\n",
       "    }\n",
       "\n",
       "    .dataframe tbody tr th {\n",
       "        vertical-align: top;\n",
       "    }\n",
       "\n",
       "    .dataframe thead th {\n",
       "        text-align: right;\n",
       "    }\n",
       "</style>\n",
       "<table border=\"1\" class=\"dataframe\">\n",
       "  <thead>\n",
       "    <tr style=\"text-align: right;\">\n",
       "      <th></th>\n",
       "      <th>domains</th>\n",
       "      <th>alpha_two_code</th>\n",
       "      <th>web_pages</th>\n",
       "      <th>name</th>\n",
       "      <th>state-province</th>\n",
       "      <th>country</th>\n",
       "    </tr>\n",
       "  </thead>\n",
       "  <tbody>\n",
       "    <tr>\n",
       "      <th>0</th>\n",
       "      <td>[marywood.edu]</td>\n",
       "      <td>US</td>\n",
       "      <td>[http://www.marywood.edu]</td>\n",
       "      <td>Marywood University</td>\n",
       "      <td>None</td>\n",
       "      <td>United States</td>\n",
       "    </tr>\n",
       "    <tr>\n",
       "      <th>1</th>\n",
       "      <td>[lindenwood.edu]</td>\n",
       "      <td>US</td>\n",
       "      <td>[http://www.lindenwood.edu/]</td>\n",
       "      <td>Lindenwood University</td>\n",
       "      <td>None</td>\n",
       "      <td>United States</td>\n",
       "    </tr>\n",
       "    <tr>\n",
       "      <th>2</th>\n",
       "      <td>[sullivan.edu]</td>\n",
       "      <td>US</td>\n",
       "      <td>[https://sullivan.edu/]</td>\n",
       "      <td>Sullivan University</td>\n",
       "      <td>None</td>\n",
       "      <td>United States</td>\n",
       "    </tr>\n",
       "    <tr>\n",
       "      <th>3</th>\n",
       "      <td>[fscj.edu]</td>\n",
       "      <td>US</td>\n",
       "      <td>[https://www.fscj.edu/]</td>\n",
       "      <td>Florida State College at Jacksonville</td>\n",
       "      <td>None</td>\n",
       "      <td>United States</td>\n",
       "    </tr>\n",
       "    <tr>\n",
       "      <th>4</th>\n",
       "      <td>[xavier.edu]</td>\n",
       "      <td>US</td>\n",
       "      <td>[https://www.xavier.edu/]</td>\n",
       "      <td>Xavier University</td>\n",
       "      <td>None</td>\n",
       "      <td>United States</td>\n",
       "    </tr>\n",
       "    <tr>\n",
       "      <th>...</th>\n",
       "      <td>...</td>\n",
       "      <td>...</td>\n",
       "      <td>...</td>\n",
       "      <td>...</td>\n",
       "      <td>...</td>\n",
       "      <td>...</td>\n",
       "    </tr>\n",
       "    <tr>\n",
       "      <th>2329</th>\n",
       "      <td>[vermontlaw.edu]</td>\n",
       "      <td>US</td>\n",
       "      <td>[https://www.vermontlaw.edu/]</td>\n",
       "      <td>Vermont Law School</td>\n",
       "      <td>None</td>\n",
       "      <td>United States</td>\n",
       "    </tr>\n",
       "    <tr>\n",
       "      <th>2330</th>\n",
       "      <td>[wnc.edu]</td>\n",
       "      <td>US</td>\n",
       "      <td>[https://wnc.edu/]</td>\n",
       "      <td>Western Nevada College</td>\n",
       "      <td>None</td>\n",
       "      <td>United States</td>\n",
       "    </tr>\n",
       "    <tr>\n",
       "      <th>2331</th>\n",
       "      <td>[westernu.edu]</td>\n",
       "      <td>US</td>\n",
       "      <td>[https://www.westernu.edu/]</td>\n",
       "      <td>Western University of Health Sciences</td>\n",
       "      <td>None</td>\n",
       "      <td>United States</td>\n",
       "    </tr>\n",
       "    <tr>\n",
       "      <th>2332</th>\n",
       "      <td>[stmarytx.edu]</td>\n",
       "      <td>US</td>\n",
       "      <td>[https://www.stmarytx.edu/]</td>\n",
       "      <td>St. Mary's University</td>\n",
       "      <td>Texas</td>\n",
       "      <td>United States</td>\n",
       "    </tr>\n",
       "    <tr>\n",
       "      <th>2333</th>\n",
       "      <td>[southflorida.edu]</td>\n",
       "      <td>US</td>\n",
       "      <td>[https://www.southflorida.edu/]</td>\n",
       "      <td>South Florida State College</td>\n",
       "      <td>Florida</td>\n",
       "      <td>United States</td>\n",
       "    </tr>\n",
       "  </tbody>\n",
       "</table>\n",
       "<p>2334 rows × 6 columns</p>\n",
       "</div>"
      ],
      "text/plain": [
       "                 domains alpha_two_code                        web_pages  \\\n",
       "0         [marywood.edu]             US        [http://www.marywood.edu]   \n",
       "1       [lindenwood.edu]             US     [http://www.lindenwood.edu/]   \n",
       "2         [sullivan.edu]             US          [https://sullivan.edu/]   \n",
       "3             [fscj.edu]             US          [https://www.fscj.edu/]   \n",
       "4           [xavier.edu]             US        [https://www.xavier.edu/]   \n",
       "...                  ...            ...                              ...   \n",
       "2329    [vermontlaw.edu]             US    [https://www.vermontlaw.edu/]   \n",
       "2330           [wnc.edu]             US               [https://wnc.edu/]   \n",
       "2331      [westernu.edu]             US      [https://www.westernu.edu/]   \n",
       "2332      [stmarytx.edu]             US      [https://www.stmarytx.edu/]   \n",
       "2333  [southflorida.edu]             US  [https://www.southflorida.edu/]   \n",
       "\n",
       "                                       name state-province        country  \n",
       "0                       Marywood University           None  United States  \n",
       "1                     Lindenwood University           None  United States  \n",
       "2                       Sullivan University           None  United States  \n",
       "3     Florida State College at Jacksonville           None  United States  \n",
       "4                         Xavier University           None  United States  \n",
       "...                                     ...            ...            ...  \n",
       "2329                     Vermont Law School           None  United States  \n",
       "2330                 Western Nevada College           None  United States  \n",
       "2331  Western University of Health Sciences           None  United States  \n",
       "2332                  St. Mary's University          Texas  United States  \n",
       "2333            South Florida State College        Florida  United States  \n",
       "\n",
       "[2334 rows x 6 columns]"
      ]
     },
     "execution_count": 3,
     "metadata": {},
     "output_type": "execute_result"
    }
   ],
   "source": [
    "# Convert JSON data to a DataFrame\n",
    "df = pd.DataFrame(university_data)\n",
    "\n",
    "# Display the first few rows of the DataFrame\n",
    "print(df.head())\n",
    "df"
   ]
  },
  {
   "cell_type": "markdown",
   "id": "u_DHkVg004ML",
   "metadata": {
    "id": "u_DHkVg004ML"
   },
   "source": [
    "### Step 4: Basic Data Analysis"
   ]
  },
  {
   "cell_type": "code",
   "execution_count": null,
   "id": "ovs5UIKs04ML",
   "metadata": {
    "id": "ovs5UIKs04ML"
   },
   "outputs": [],
   "source": [
    "# Count the number of universities by state\n",
    "state_counts = df['state-province'].value_counts()\n",
    "print(state_counts)"
   ]
  },
  {
   "cell_type": "markdown",
   "id": "cAPYEMN304ML",
   "metadata": {
    "id": "cAPYEMN304ML"
   },
   "source": [
    "### Step 5: Data Visualization"
   ]
  },
  {
   "cell_type": "code",
   "execution_count": null,
   "id": "g7yUOl-804ML",
   "metadata": {
    "id": "g7yUOl-804ML"
   },
   "outputs": [],
   "source": [
    "import matplotlib.pyplot as plt\n",
    "\n",
    "# Plot the number of universities per state\n",
    "state_counts.plot(kind='bar', figsize=(10, 6))\n",
    "plt.title(\"Number of Universities per State\")\n",
    "plt.xlabel(\"State\")\n",
    "plt.ylabel(\"Number of Universities\")\n",
    "plt.show()"
   ]
  },
  {
   "cell_type": "markdown",
   "id": "WhSWvUWS04ML",
   "metadata": {
    "id": "WhSWvUWS04ML"
   },
   "source": [
    "### Step 6: Extending to Multiple Countries"
   ]
  },
  {
   "cell_type": "code",
   "execution_count": null,
   "id": "ctTMYEJp04ML",
   "metadata": {
    "id": "ctTMYEJp04ML"
   },
   "outputs": [],
   "source": [
    "countries = [\"United States\", \"Canada\", \"Australia\", \"United Kingdom\"]\n",
    "university_list = []\n",
    "\n",
    "for country in countries:\n",
    "    response = requests.get(f\"http://universities.hipolabs.com/search?country={country}\")\n",
    "    data = response.json()\n",
    "\n",
    "    for uni in data:\n",
    "        uni['country'] = country\n",
    "        university_list.append(uni)\n",
    "\n",
    "# Convert to DataFrame\n",
    "df_universities = pd.DataFrame(university_list)\n",
    "\n",
    "# Display the first few rows\n",
    "print(df_universities.head())"
   ]
  },
  {
   "cell_type": "markdown",
   "id": "PIgW1_1p04ML",
   "metadata": {
    "id": "PIgW1_1p04ML"
   },
   "source": [
    "### Step 7: Visualizing University Counts by Country"
   ]
  },
  {
   "cell_type": "code",
   "execution_count": null,
   "id": "TLQPcYvY04ML",
   "metadata": {
    "id": "TLQPcYvY04ML"
   },
   "outputs": [],
   "source": [
    "# Count the number of universities per country\n",
    "country_counts = df_universities['country'].value_counts()\n",
    "\n",
    "# Plot the data\n",
    "country_counts.plot(kind='bar', figsize=(10, 6))\n",
    "plt.title(\"Number of Universities per Country\")\n",
    "plt.xlabel(\"Country\")\n",
    "plt.ylabel(\"Number of Universities\")\n",
    "plt.show()"
   ]
  },
  {
   "cell_type": "markdown",
   "id": "b-dBnRNT1MQF",
   "metadata": {
    "id": "b-dBnRNT1MQF"
   },
   "source": [
    "###Step 8: Customizing the Workshop\n",
    "\n",
    "You can experiment further by:\n",
    "\n",
    "\n",
    "\n",
    "*   Fetching data for specific regions.\n",
    "*   Analyzing other attributes such as university domains.\n",
    "*   Creating visualizations to compare universities in different regions.\n",
    "\n"
   ]
  },
  {
   "cell_type": "markdown",
   "id": "iwD_LJNy2L7u",
   "metadata": {
    "id": "iwD_LJNy2L7u"
   },
   "source": [
    "For the followig you will need to get your API key from  https://financeapi.net/\n",
    "Examine the demo page and sample data to be returned"
   ]
  },
  {
   "cell_type": "code",
   "execution_count": null,
   "id": "80xOdsHQ2SzU",
   "metadata": {
    "id": "80xOdsHQ2SzU"
   },
   "outputs": [],
   "source": [
    "import json\n",
    "import pandas as pd\n",
    "import json\n",
    "import requests"
   ]
  },
  {
   "cell_type": "code",
   "execution_count": 4,
   "id": "qdoW9lbM2Wes",
   "metadata": {
    "id": "qdoW9lbM2Wes"
   },
   "outputs": [
    {
     "name": "stdout",
     "output_type": "stream",
     "text": [
      "AAPL\n"
     ]
    }
   ],
   "source": [
    "#get stock from the user\n",
    "stock=input()"
   ]
  },
  {
   "cell_type": "code",
   "execution_count": 5,
   "id": "Jb5ddkbl2YWF",
   "metadata": {
    "id": "Jb5ddkbl2YWF"
   },
   "outputs": [
    {
     "name": "stdout",
     "output_type": "stream",
     "text": [
      "The Stock we will research is:AAPL\n"
     ]
    }
   ],
   "source": [
    "print(\"The Stock we will research is:\" + stock)"
   ]
  },
  {
   "cell_type": "code",
   "execution_count": 6,
   "id": "pFKgjZlO2atU",
   "metadata": {
    "id": "pFKgjZlO2atU"
   },
   "outputs": [
    {
     "name": "stdout",
     "output_type": "stream",
     "text": [
      "{\"quoteResponse\":{\"result\":[{\"language\":\"en-US\",\"region\":\"US\",\"quoteType\":\"EQUITY\",\"typeDisp\":\"Equity\",\"quoteSourceName\":\"Nasdaq Real Time Price\",\"triggerable\":true,\"customPriceAlertConfidence\":\"HIGH\",\"exchange\":\"NMS\",\"shortName\":\"Apple Inc.\",\"longName\":\"Apple Inc.\",\"messageBoardId\":\"finmb_24937\",\"exchangeTimezoneName\":\"America/New_York\",\"exchangeTimezoneShortName\":\"EDT\",\"gmtOffSetMilliseconds\":-14400000,\"market\":\"us_market\",\"esgPopulated\":false,\"currency\":\"USD\",\"marketState\":\"REGULAR\",\"regularMarketChangePercent\":0.3445681,\"regularMarketPrice\":227.15,\"hasPrePostMarketData\":true,\"firstTradeDateMilliseconds\":345479400000,\"priceHint\":2,\"regularMarketChange\":0.7799988,\"regularMarketTime\":1727369831,\"regularMarketDayHigh\":228.5,\"regularMarketDayRange\":\"225.41 - 228.5\",\"regularMarketDayLow\":225.41,\"regularMarketVolume\":17372334,\"regularMarketPreviousClose\":226.37,\"bid\":226.89,\"ask\":227.49,\"bidSize\":1,\"askSize\":1,\"fullExchangeName\":\"NasdaqGS\",\"financialCurrency\":\"USD\",\"regularMarketOpen\":227.3,\"averageDailyVolume3Month\":55790612,\"averageDailyVolume10Day\":76429910,\"fiftyTwoWeekLowChange\":63.069992,\"fiftyTwoWeekLowChangePercent\":0.38438562,\"fiftyTwoWeekRange\":\"164.08 - 237.23\",\"fiftyTwoWeekHighChange\":-10.080002,\"fiftyTwoWeekHighChangePercent\":-0.04249042,\"fiftyTwoWeekLow\":164.08,\"fiftyTwoWeekHigh\":237.23,\"fiftyTwoWeekChangePercent\":32.620537,\"dividendDate\":1723680000,\"priceEpsCurrentYear\":33.902985,\"sharesOutstanding\":15204100096,\"bookValue\":4.382,\"fiftyDayAverage\":222.0468,\"fiftyDayAverageChange\":5.103195,\"fiftyDayAverageChangePercent\":0.022982521,\"twoHundredDayAverage\":196.84895,\"twoHundredDayAverageChange\":30.30104,\"twoHundredDayAverageChangePercent\":0.15393041,\"marketCap\":3453611147264,\"forwardPE\":30.367645,\"priceToBook\":51.83706,\"sourceInterval\":15,\"exchangeDataDelayedBy\":0,\"averageAnalystRating\":\"2.0 - Buy\",\"earningsTimestamp\":1722544200,\"earningsTimestampStart\":1730372340,\"earningsTimestampEnd\":1730721600,\"earningsCallTimestampStart\":1722546000,\"earningsCallTimestampEnd\":1722546000,\"isEarningsDateEstimate\":true,\"trailingAnnualDividendRate\":0.97,\"trailingPE\":34.626522,\"dividendRate\":1.0,\"trailingAnnualDividendYield\":0.0042850203,\"dividendYield\":0.44,\"epsTrailingTwelveMonths\":6.56,\"epsForward\":7.48,\"epsCurrentYear\":6.7,\"tradeable\":false,\"cryptoTradeable\":false,\"displayName\":\"Apple\",\"symbol\":\"AAPL\"}],\"error\":null}}\n"
     ]
    }
   ],
   "source": [
    "apikey=\"yourkey\"\n",
    "\n",
    "url = \"https://yfapi.net/v6/finance/quote\"\n",
    "\n",
    "querystring = {\"symbols\":stock}\n",
    "\n",
    "headers = {\n",
    "    'x-api-key': apikey\n",
    "    }\n",
    "\n",
    "response = requests.request(\"GET\", url, headers=headers, params=querystring)\n",
    "\n",
    "print(response.text)"
   ]
  },
  {
   "cell_type": "code",
   "execution_count": 7,
   "id": "SVJqBY7y2eSs",
   "metadata": {
    "id": "SVJqBY7y2eSs"
   },
   "outputs": [
    {
     "name": "stdout",
     "output_type": "stream",
     "text": [
      "Apple Inc. Price:$227.15\n"
     ]
    }
   ],
   "source": [
    "#print the company name and price\n",
    "stock_json = response.json()\n",
    "print(stock_json['quoteResponse']['result'][0][\"longName\"] + \" Price:$\" + str(stock_json['quoteResponse']['result'][0][\"regularMarketPrice\"]))"
   ]
  },
  {
   "cell_type": "markdown",
   "id": "9sqZZPI12leh",
   "metadata": {
    "id": "9sqZZPI12leh"
   },
   "source": [
    "Ask the user for a list of stocks and pass that answer back to the user\n"
   ]
  },
  {
   "cell_type": "code",
   "execution_count": 8,
   "id": "51b51896",
   "metadata": {},
   "outputs": [
    {
     "name": "stdout",
     "output_type": "stream",
     "text": [
      "AAPL,MSFT,AMZN\n"
     ]
    }
   ],
   "source": [
    "#get list of stock from the user\n",
    "stock=input()"
   ]
  },
  {
   "cell_type": "code",
   "execution_count": 10,
   "id": "0aa7d7f8",
   "metadata": {},
   "outputs": [
    {
     "name": "stdout",
     "output_type": "stream",
     "text": [
      "The Stock we will research is:AAPL,MSFT,AMZN\n"
     ]
    }
   ],
   "source": [
    "print(\"The Stock we will research is:\" + stock)"
   ]
  },
  {
   "cell_type": "code",
   "execution_count": 17,
   "id": "23f002e8",
   "metadata": {},
   "outputs": [
    {
     "name": "stdout",
     "output_type": "stream",
     "text": [
      "{\"quoteResponse\":{\"result\":[{\"language\":\"en-US\",\"region\":\"US\",\"quoteType\":\"EQUITY\",\"typeDisp\":\"Equity\",\"quoteSourceName\":\"Nasdaq Real Time Price\",\"triggerable\":true,\"customPriceAlertConfidence\":\"HIGH\",\"marketState\":\"REGULAR\",\"currency\":\"USD\",\"regularMarketChangePercent\":0.35782018,\"regularMarketPrice\":227.18,\"exchange\":\"NMS\",\"shortName\":\"Apple Inc.\",\"longName\":\"Apple Inc.\",\"messageBoardId\":\"finmb_24937\",\"exchangeTimezoneName\":\"America/New_York\",\"exchangeTimezoneShortName\":\"EDT\",\"gmtOffSetMilliseconds\":-14400000,\"market\":\"us_market\",\"esgPopulated\":false,\"hasPrePostMarketData\":true,\"firstTradeDateMilliseconds\":345479400000,\"priceHint\":2,\"regularMarketChange\":0.80999756,\"regularMarketTime\":1727370504,\"regularMarketDayHigh\":228.5,\"regularMarketDayRange\":\"225.41 - 228.5\",\"regularMarketDayLow\":225.41,\"regularMarketVolume\":17727397,\"regularMarketPreviousClose\":226.37,\"bid\":226.77,\"ask\":227.46,\"bidSize\":1,\"askSize\":1,\"fullExchangeName\":\"NasdaqGS\",\"financialCurrency\":\"USD\",\"regularMarketOpen\":227.3,\"averageDailyVolume3Month\":55790612,\"averageDailyVolume10Day\":76429910,\"fiftyTwoWeekLowChange\":63.09999,\"fiftyTwoWeekLowChangePercent\":0.38456845,\"fiftyTwoWeekRange\":\"164.08 - 237.23\",\"fiftyTwoWeekHighChange\":-10.050003,\"fiftyTwoWeekHighChangePercent\":-0.042363964,\"fiftyTwoWeekLow\":164.08,\"fiftyTwoWeekHigh\":237.23,\"fiftyTwoWeekChangePercent\":32.620537,\"dividendDate\":1723680000,\"earningsTimestamp\":1722544200,\"earningsTimestampStart\":1730372340,\"earningsTimestampEnd\":1730721600,\"earningsCallTimestampStart\":1722546000,\"earningsCallTimestampEnd\":1722546000,\"isEarningsDateEstimate\":true,\"trailingAnnualDividendRate\":0.97,\"trailingPE\":34.631096,\"dividendRate\":1.0,\"trailingAnnualDividendYield\":0.0042850203,\"dividendYield\":0.44,\"epsTrailingTwelveMonths\":6.56,\"epsForward\":7.48,\"epsCurrentYear\":6.7,\"priceEpsCurrentYear\":33.907463,\"sharesOutstanding\":15204100096,\"bookValue\":4.382,\"fiftyDayAverage\":222.0468,\"fiftyDayAverageChange\":5.133194,\"fiftyDayAverageChangePercent\":0.023117622,\"twoHundredDayAverage\":196.84895,\"twoHundredDayAverageChange\":30.33104,\"twoHundredDayAverageChangePercent\":0.1540828,\"marketCap\":3454067277824,\"forwardPE\":30.371656,\"priceToBook\":51.843906,\"sourceInterval\":15,\"exchangeDataDelayedBy\":0,\"averageAnalystRating\":\"2.0 - Buy\",\"tradeable\":false,\"cryptoTradeable\":false,\"displayName\":\"Apple\",\"symbol\":\"AAPL\"},{\"language\":\"en-US\",\"region\":\"US\",\"quoteType\":\"EQUITY\",\"typeDisp\":\"Equity\",\"quoteSourceName\":\"Nasdaq Real Time Price\",\"triggerable\":true,\"customPriceAlertConfidence\":\"HIGH\",\"marketState\":\"REGULAR\",\"currency\":\"USD\",\"regularMarketChangePercent\":-0.46172926,\"regularMarketPrice\":430.1148,\"exchange\":\"NMS\",\"shortName\":\"Microsoft Corporation\",\"longName\":\"Microsoft Corporation\",\"messageBoardId\":\"finmb_21835\",\"exchangeTimezoneName\":\"America/New_York\",\"exchangeTimezoneShortName\":\"EDT\",\"gmtOffSetMilliseconds\":-14400000,\"market\":\"us_market\",\"esgPopulated\":false,\"hasPrePostMarketData\":true,\"firstTradeDateMilliseconds\":511108200000,\"priceHint\":2,\"regularMarketChange\":-1.9951782,\"regularMarketTime\":1727370503,\"regularMarketDayHigh\":435.24,\"regularMarketDayRange\":\"429.735 - 435.24\",\"regularMarketDayLow\":429.735,\"regularMarketVolume\":6224658,\"regularMarketPreviousClose\":432.11,\"bid\":429.91,\"ask\":430.27,\"bidSize\":1,\"askSize\":1,\"fullExchangeName\":\"NasdaqGS\",\"financialCurrency\":\"USD\",\"regularMarketOpen\":435.085,\"averageDailyVolume3Month\":20098431,\"averageDailyVolume10Day\":20725370,\"fiftyTwoWeekLowChange\":120.664795,\"fiftyTwoWeekLowChangePercent\":0.38993308,\"fiftyTwoWeekRange\":\"309.45 - 468.35\",\"fiftyTwoWeekHighChange\":-38.2352,\"fiftyTwoWeekHighChangePercent\":-0.08163809,\"fiftyTwoWeekLow\":309.45,\"fiftyTwoWeekHigh\":468.35,\"fiftyTwoWeekChangePercent\":37.772606,\"dividendDate\":1733961600,\"earningsTimestamp\":1722369600,\"earningsTimestampStart\":1729594740,\"earningsTimestampEnd\":1730116800,\"earningsCallTimestampStart\":1722375000,\"earningsCallTimestampEnd\":1722375000,\"isEarningsDateEstimate\":true,\"trailingAnnualDividendRate\":3.0,\"trailingPE\":36.450405,\"dividendRate\":3.32,\"trailingAnnualDividendYield\":0.006942677,\"dividendYield\":0.77,\"epsTrailingTwelveMonths\":11.8,\"epsForward\":15.22,\"epsCurrentYear\":13.08,\"priceEpsCurrentYear\":32.883396,\"sharesOutstanding\":7433039872,\"bookValue\":36.115,\"fiftyDayAverage\":420.4014,\"fiftyDayAverageChange\":9.713409,\"fiftyDayAverageChangePercent\":0.023105083,\"twoHundredDayAverage\":414.8203,\"twoHundredDayAverageChange\":15.294495,\"twoHundredDayAverageChangePercent\":0.036870167,\"marketCap\":3197060513792,\"forwardPE\":28.259842,\"priceToBook\":11.909589,\"sourceInterval\":15,\"exchangeDataDelayedBy\":0,\"averageAnalystRating\":\"1.7 - Buy\",\"tradeable\":false,\"cryptoTradeable\":false,\"displayName\":\"Microsoft\",\"symbol\":\"MSFT\"},{\"language\":\"en-US\",\"region\":\"US\",\"quoteType\":\"EQUITY\",\"typeDisp\":\"Equity\",\"quoteSourceName\":\"Nasdaq Real Time Price\",\"triggerable\":true,\"customPriceAlertConfidence\":\"HIGH\",\"marketState\":\"REGULAR\",\"currency\":\"USD\",\"regularMarketChangePercent\":-0.9920551,\"regularMarketPrice\":190.62,\"exchange\":\"NMS\",\"shortName\":\"Amazon.com, Inc.\",\"longName\":\"Amazon.com, Inc.\",\"messageBoardId\":\"finmb_18749\",\"exchangeTimezoneName\":\"America/New_York\",\"exchangeTimezoneShortName\":\"EDT\",\"gmtOffSetMilliseconds\":-14400000,\"market\":\"us_market\",\"esgPopulated\":false,\"hasPrePostMarketData\":true,\"firstTradeDateMilliseconds\":863703000000,\"priceHint\":2,\"regularMarketChange\":-1.9100037,\"regularMarketTime\":1727370504,\"regularMarketDayHigh\":194.53,\"regularMarketDayRange\":\"189.58 - 194.53\",\"regularMarketDayLow\":189.58,\"regularMarketVolume\":18756944,\"regularMarketPreviousClose\":192.53,\"bid\":190.52,\"ask\":190.73,\"bidSize\":2,\"askSize\":2,\"fullExchangeName\":\"NasdaqGS\",\"financialCurrency\":\"USD\",\"regularMarketOpen\":194.22,\"averageDailyVolume3Month\":41927450,\"averageDailyVolume10Day\":39341710,\"fiftyTwoWeekLowChange\":72.27,\"fiftyTwoWeekLowChangePercent\":0.61064637,\"fiftyTwoWeekRange\":\"118.35 - 201.2\",\"fiftyTwoWeekHighChange\":-10.580002,\"fiftyTwoWeekHighChangePercent\":-0.052584503,\"fiftyTwoWeekLow\":118.35,\"fiftyTwoWeekHigh\":201.2,\"fiftyTwoWeekChangePercent\":52.825844,\"earningsTimestamp\":1722542460,\"earningsTimestampStart\":1729767540,\"earningsTimestampEnd\":1730116800,\"earningsCallTimestampStart\":1722547800,\"earningsCallTimestampEnd\":1722547800,\"isEarningsDateEstimate\":true,\"trailingAnnualDividendRate\":0.0,\"trailingPE\":45.385715,\"trailingAnnualDividendYield\":0.0,\"epsTrailingTwelveMonths\":4.2,\"epsForward\":5.82,\"epsCurrentYear\":4.73,\"priceEpsCurrentYear\":40.30021,\"sharesOutstanding\":10495599616,\"bookValue\":22.54,\"fiftyDayAverage\":178.8666,\"fiftyDayAverageChange\":11.753403,\"fiftyDayAverageChangePercent\":0.06571044,\"twoHundredDayAverage\":175.6694,\"twoHundredDayAverageChange\":14.950592,\"twoHundredDayAverageChangePercent\":0.08510641,\"marketCap\":2000671211520,\"forwardPE\":32.752575,\"priceToBook\":8.4569645,\"sourceInterval\":15,\"exchangeDataDelayedBy\":0,\"averageAnalystRating\":\"1.8 - Buy\",\"tradeable\":false,\"cryptoTradeable\":false,\"displayName\":\"Amazon.com\",\"symbol\":\"AMZN\"}],\"error\":null}}\n"
     ]
    }
   ],
   "source": [
    "apikey=\"yourkey\"\n",
    "\n",
    "url = \"https://yfapi.net/v6/finance/quote\"\n",
    "\n",
    "querystring = {\"symbols\":stock}\n",
    "\n",
    "headers = {\n",
    "    'x-api-key': apikey\n",
    "    }\n",
    "\n",
    "response = requests.request(\"GET\", url, headers=headers, params=querystring)\n",
    "\n",
    "print(response.text)"
   ]
  },
  {
   "cell_type": "code",
   "execution_count": 36,
   "id": "abc3c947",
   "metadata": {},
   "outputs": [
    {
     "name": "stdout",
     "output_type": "stream",
     "text": [
      "Apple Inc. Price:$227.18\n",
      "Microsoft Corporation Price:$430.1148\n",
      "Amazon.com, Inc. Price:$190.62\n"
     ]
    }
   ],
   "source": [
    "#print the company name and price\n",
    "stock_json = response.json()\n",
    "\n",
    "# iterate through to print info for each stock\n",
    "for i in range(len(stock_json['quoteResponse']['result'])):\n",
    "    print(stock_json['quoteResponse']['result'][i][\"longName\"] + \" Price:$\" + str(stock_json['quoteResponse']['result'][i][\"regularMarketPrice\"]))"
   ]
  },
  {
   "cell_type": "code",
   "execution_count": null,
   "id": "110781d1",
   "metadata": {},
   "outputs": [],
   "source": []
  }
 ],
 "metadata": {
  "colab": {
   "include_colab_link": true,
   "provenance": []
  },
  "kernelspec": {
   "display_name": "Python 3 (ipykernel)",
   "language": "python",
   "name": "python3"
  },
  "language_info": {
   "codemirror_mode": {
    "name": "ipython",
    "version": 3
   },
   "file_extension": ".py",
   "mimetype": "text/x-python",
   "name": "python",
   "nbconvert_exporter": "python",
   "pygments_lexer": "ipython3",
   "version": "3.11.5"
  }
 },
 "nbformat": 4,
 "nbformat_minor": 5
}
