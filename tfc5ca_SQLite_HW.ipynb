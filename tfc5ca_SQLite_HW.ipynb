{
 "cells": [
  {
   "cell_type": "markdown",
   "id": "6d3b5655",
   "metadata": {},
   "source": [
    "1. Set Up Database"
   ]
  },
  {
   "cell_type": "code",
   "execution_count": 4,
   "id": "e200478c",
   "metadata": {},
   "outputs": [],
   "source": [
    "import sqlite3\n",
    "\n",
    "# Create or connect to an SQLite database\n",
    "connection = sqlite3.connect('student_grades.db')\n",
    "cursor = connection.cursor()"
   ]
  },
  {
   "cell_type": "markdown",
   "id": "3c164b5a",
   "metadata": {},
   "source": [
    "2. Create the Necessary Tables"
   ]
  },
  {
   "cell_type": "code",
   "execution_count": 8,
   "id": "ce1c2fd9",
   "metadata": {},
   "outputs": [
    {
     "data": {
      "text/plain": [
       "<sqlite3.Cursor at 0x10f9c5040>"
      ]
     },
     "execution_count": 8,
     "metadata": {},
     "output_type": "execute_result"
    }
   ],
   "source": [
    "# create students table\n",
    "cursor.execute('''\n",
    "CREATE TABLE IF NOT EXISTS students (\n",
    "    student_id INTEGER PRIMARY KEY AUTOINCREMENT,\n",
    "    first_name TEXT,\n",
    "    last_name TEXT\n",
    ")\n",
    "''')"
   ]
  },
  {
   "cell_type": "code",
   "execution_count": 9,
   "id": "7b8a03ba",
   "metadata": {},
   "outputs": [
    {
     "data": {
      "text/plain": [
       "<sqlite3.Cursor at 0x10f9c5040>"
      ]
     },
     "execution_count": 9,
     "metadata": {},
     "output_type": "execute_result"
    }
   ],
   "source": [
    "# create grades table\n",
    "cursor.execute('''\n",
    "CREATE TABLE IF NOT EXISTS grades (\n",
    "    grade_id INTEGER PRIMARY KEY AUTOINCREMENT,\n",
    "    student_id INTEGER,\n",
    "    subject TEXT,\n",
    "    grade INTEGER,\n",
    "    FOREIGN KEY (student_id) REFERENCES students(student_id)\n",
    ")\n",
    "''')"
   ]
  },
  {
   "cell_type": "markdown",
   "id": "7a51c530",
   "metadata": {},
   "source": [
    "3. Insert Data into the Tables"
   ]
  },
  {
   "cell_type": "code",
   "execution_count": 10,
   "id": "e19d2786",
   "metadata": {},
   "outputs": [],
   "source": [
    "# list students data\n",
    "students_data = [\n",
    "    (1,\"Alice\",\"Johnson\"),\n",
    "    (2,\"Bob\",\"Smith\"),\n",
    "    (3,\"Carol\",\"White\"),\n",
    "    (4,\"David\",\"Brown\"),\n",
    "    (5,\"Eve\",\"Davis\")\n",
    "]\n",
    "\n",
    "# Insert data into the table\n",
    "cursor.executemany('''\n",
    "INSERT INTO students (student_id, first_name, last_name) VALUES (?, ?, ?)\n",
    "''', students_data)\n",
    "\n",
    "# Commit the transaction\n",
    "connection.commit()"
   ]
  },
  {
   "cell_type": "code",
   "execution_count": 11,
   "id": "ae9d9d4d",
   "metadata": {},
   "outputs": [],
   "source": [
    "# list grades data\n",
    "grades_data = [\n",
    "    (1,1,\"Math\",95),\n",
    "    (2,1,\"English\",88),\n",
    "    (3,1,\"History\",90),\n",
    "    (4,2,\"Math\",82),\n",
    "    (5,2,\"English\",76),\n",
    "    (6,2,\"History\",85),\n",
    "    (7,3,\"Math\",87),\n",
    "    (8,3,\"English\",94),\n",
    "    (9,3,\"History\",93),\n",
    "    (10,4,\"Math\",85),\n",
    "    (11,4,\"English\",87),\n",
    "    (12,4,\"History\",89),\n",
    "    (13,5,\"Math\",78),\n",
    "    (14,5,\"English\",86),\n",
    "    (15,5,\"History\",92)\n",
    "]\n",
    "\n",
    "# Insert data into the table\n",
    "cursor.executemany('''\n",
    "INSERT INTO grades (grade_id, student_id, subject, grade) VALUES (?, ?, ?, ?)\n",
    "''', grades_data)\n",
    "\n",
    "# Commit the transaction\n",
    "connection.commit()"
   ]
  },
  {
   "cell_type": "markdown",
   "id": "55765a9f",
   "metadata": {},
   "source": [
    "4. Perform SQL Queries"
   ]
  },
  {
   "cell_type": "code",
   "execution_count": 12,
   "id": "dadced4b",
   "metadata": {},
   "outputs": [
    {
     "name": "stdout",
     "output_type": "stream",
     "text": [
      "All students and their grades:\n",
      "('Alice', 'Johnson', 95)\n",
      "('Alice', 'Johnson', 88)\n",
      "('Alice', 'Johnson', 90)\n",
      "('Bob', 'Smith', 82)\n",
      "('Bob', 'Smith', 76)\n",
      "('Bob', 'Smith', 85)\n",
      "('Carol', 'White', 87)\n",
      "('Carol', 'White', 94)\n",
      "('Carol', 'White', 93)\n",
      "('David', 'Brown', 85)\n",
      "('David', 'Brown', 87)\n",
      "('David', 'Brown', 89)\n",
      "('Eve', 'Davis', 78)\n",
      "('Eve', 'Davis', 86)\n",
      "('Eve', 'Davis', 92)\n"
     ]
    }
   ],
   "source": [
    "# Question 1: Retrieve all students' names and their grades\n",
    "cursor.execute(\"SELECT students.first_name, students.last_name,grades.grade FROM students JOIN grades ON students.student_id=grades.student_id\")\n",
    "rows = cursor.fetchall()\n",
    "\n",
    "# Print the results\n",
    "print(\"All students and their grades:\")\n",
    "for row in rows:\n",
    "    print(row)"
   ]
  },
  {
   "cell_type": "code",
   "execution_count": 13,
   "id": "c751a22d",
   "metadata": {},
   "outputs": [
    {
     "name": "stdout",
     "output_type": "stream",
     "text": [
      "Average grade for each student:\n",
      "('Alice', 'Johnson', 91.0)\n",
      "('Bob', 'Smith', 81.0)\n",
      "('Carol', 'White', 91.33333333333333)\n",
      "('David', 'Brown', 87.0)\n",
      "('Eve', 'Davis', 85.33333333333333)\n"
     ]
    }
   ],
   "source": [
    "# Question 2: Find the average grade for each student\n",
    "cursor.execute(\"SELECT students.first_name, students.last_name, AVG(grades.grade) FROM grades JOIN students on grades.student_id=students.student_id GROUP BY students.first_name, students.last_name\")\n",
    "avg_rows = cursor.fetchall()\n",
    "\n",
    "# Print the results\n",
    "print(\"Average grade for each student:\")\n",
    "for row in avg_rows:\n",
    "    print(row)"
   ]
  },
  {
   "cell_type": "code",
   "execution_count": 19,
   "id": "59d870ac",
   "metadata": {},
   "outputs": [
    {
     "name": "stdout",
     "output_type": "stream",
     "text": [
      "Highest Average Grade:\n",
      "('Carol', 'White', 91.33333333333333)\n"
     ]
    }
   ],
   "source": [
    "# Question 3: Find the student with the highest average grade\n",
    "cursor.execute(\"SELECT students.first_name, students.last_name, AVG(grades.grade) FROM grades JOIN students on grades.student_id=students.student_id GROUP BY students.first_name, students.last_name ORDER BY AVG(grades.grade) DESC LIMIT 1\")\n",
    "rows = cursor.fetchall()\n",
    "\n",
    "# Print the results\n",
    "print(\"Highest Average Grade:\")\n",
    "for row in rows:\n",
    "    print(row)"
   ]
  },
  {
   "cell_type": "code",
   "execution_count": 22,
   "id": "42d9e334",
   "metadata": {},
   "outputs": [
    {
     "name": "stdout",
     "output_type": "stream",
     "text": [
      "Average Math Grade:\n",
      "('Math', 85.4)\n"
     ]
    }
   ],
   "source": [
    "# Question 4: Find the average grade for the Math subject\n",
    "cursor.execute(\"SELECT grades.subject, AVG(grades.grade) FROM grades WHERE grades.subject='Math'\")\n",
    "rows = cursor.fetchall()\n",
    "\n",
    "# Print the results\n",
    "print(\"Average Math Grade:\")\n",
    "for row in rows:\n",
    "    print(row)"
   ]
  },
  {
   "cell_type": "code",
   "execution_count": 24,
   "id": "e99e1115",
   "metadata": {},
   "outputs": [
    {
     "name": "stdout",
     "output_type": "stream",
     "text": [
      "Student who scored above 90:\n",
      "('Alice', 'Johnson')\n",
      "('Carol', 'White')\n",
      "('Eve', 'Davis')\n"
     ]
    }
   ],
   "source": [
    "# Question 5: List all the students who scored above 90 in any subject\n",
    "cursor.execute(\"SELECT DISTINCT students.first_name, students.last_name FROM grades JOIN students on grades.student_id=students.student_id WHERE grades.grade>90\")\n",
    "rows = cursor.fetchall()\n",
    "\n",
    "# Print the results\n",
    "print(\"Student who scored above 90:\")\n",
    "for row in rows:\n",
    "    print(row)"
   ]
  },
  {
   "cell_type": "markdown",
   "id": "daeaec84",
   "metadata": {},
   "source": [
    "5. Load Data into Pandas"
   ]
  },
  {
   "cell_type": "code",
   "execution_count": 27,
   "id": "bc51d5b3",
   "metadata": {},
   "outputs": [
    {
     "name": "stdout",
     "output_type": "stream",
     "text": [
      "  first_name last_name  subject  grade\n",
      "0      Alice   Johnson     Math     95\n",
      "1      Alice   Johnson  English     88\n",
      "2      Alice   Johnson  History     90\n",
      "3        Bob     Smith     Math     82\n",
      "4        Bob     Smith  English     76\n"
     ]
    }
   ],
   "source": [
    "import pandas as pd\n",
    "\n",
    "# load students and grades tables into data frames and combine the two\n",
    "student_grades = pd.read_sql(\"SELECT students.first_name, students.last_name, grades.subject, grades.grade FROM students JOIN grades on students.student_id=grades.student_id\", connection)\n",
    "print(student_grades.head())"
   ]
  },
  {
   "cell_type": "code",
   "execution_count": 52,
   "id": "7d40c10b",
   "metadata": {},
   "outputs": [
    {
     "data": {
      "image/png": "[encoded data removed]",
      "text/plain": [
       "<Figure size 1000x600 with 1 Axes>"
      ]
     },
     "metadata": {},
     "output_type": "display_data"
    }
   ],
   "source": [
    "import matplotlib.pyplot as plt\n",
    "\n",
    "# calculate the average grade for each student and put in data frame \n",
    "cursor.execute(\"SELECT students.first_name, students.last_name, AVG(grades.grade) FROM grades JOIN students on grades.student_id=students.student_id GROUP BY students.first_name, students.last_name\")\n",
    "avg_rows = cursor.fetchall()\n",
    "\n",
    "avg_grades = pd.DataFrame(avg_rows, columns=['First',\"Last\",\"Average Grade\"])\n",
    "avg_grades['Student']=avg_grades[\"First\"]+' '+avg_grades['Last']\n",
    "\n",
    "# plot the average grade for each student\n",
    "plt.figure(figsize=(10,6))\n",
    "plt.bar(avg_grades['Student'],avg_grades['Average Grade'], color=\"lightgreen\")\n",
    "plt.xlabel('Student')\n",
    "plt.ylabel('Average Grade')\n",
    "plt.title(\"Average Grade for Each Student\")\n",
    "plt.show()"
   ]
  },
  {
   "cell_type": "code",
   "execution_count": 72,
   "id": "8fcd18bc",
   "metadata": {},
   "outputs": [
    {
     "data": {
      "image/png": "[encoded data removed]",
      "text/plain": [
       "<Figure size 1000x600 with 1 Axes>"
      ]
     },
     "metadata": {},
     "output_type": "display_data"
    }
   ],
   "source": [
    "# calculate the average grade for each subject and put in data frame \n",
    "cursor.execute(\"SELECT grades.subject, AVG(grades.grade) FROM grades GROUP BY grades.subject\")\n",
    "sub_rows = cursor.fetchall()\n",
    "\n",
    "avg_sub = pd.DataFrame(sub_rows, columns=[\"Subject\",\"Average Grade\"])\n",
    "\n",
    "# plot the average grade for each subject\n",
    "plt.figure(figsize=(10,6))\n",
    "plt.bar(avg_sub['Subject'],avg_sub['Average Grade'], color=\"purple\")\n",
    "plt.xlabel('Subject')\n",
    "plt.ylabel('Average Grade')\n",
    "plt.title(\"Average Grade by Subject\")\n",
    "plt.show()"
   ]
  },
  {
   "cell_type": "code",
   "execution_count": 73,
   "id": "9957a91d",
   "metadata": {},
   "outputs": [],
   "source": [
    "cursor.close()"
   ]
  }
 ],
 "metadata": {
  "kernelspec": {
   "display_name": "Python 3 (ipykernel)",
   "language": "python",
   "name": "python3"
  },
  "language_info": {
   "codemirror_mode": {
    "name": "ipython",
    "version": 3
   },
   "file_extension": ".py",
   "mimetype": "text/x-python",
   "name": "python",
   "nbconvert_exporter": "python",
   "pygments_lexer": "ipython3",
   "version": "3.11.5"
  }
 },
 "nbformat": 4,
 "nbformat_minor": 5
}
